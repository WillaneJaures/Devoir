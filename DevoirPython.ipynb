{
  "nbformat": 4,
  "nbformat_minor": 0,
  "metadata": {
    "colab": {
      "provenance": []
    },
    "kernelspec": {
      "name": "python3",
      "display_name": "Python 3"
    },
    "language_info": {
      "name": "python"
    }
  },
  "cells": [
    {
      "cell_type": "code",
      "execution_count": null,
      "metadata": {
        "id": "3jy4n87RcdQl"
      },
      "outputs": [],
      "source": [
        "#Exercice1\n",
        "\n"
      ]
    },
    {
      "cell_type": "code",
      "source": [
        "#Excercie2\n",
        "\n",
        "import operator\n",
        "lst1 = list(range(1200, 2000, 135)) # (1)\n",
        "lst2 = [i * 2 for i in lst1 if i % 2 == 0] # (2)\n",
        "numbers = (1, 2, 3, 4, 5, 6, 7, 8, 9)\n",
        "o = list(filter(lambda x: operator.mod(x,2) == 0, numbers))\n",
        "e = list(filter(lambda x: operator.mod(x, 2) != 0, numbers))\n",
        "print(lst1)\n",
        "print(lst2)\n",
        "print(o)\n",
        "print(e)"
      ],
      "metadata": {
        "colab": {
          "base_uri": "https://localhost:8080/"
        },
        "id": "mRVG2uw5cg6f",
        "outputId": "16ef58f0-f14c-442d-b52d-ac4d5d54a9db"
      },
      "execution_count": 2,
      "outputs": [
        {
          "output_type": "stream",
          "name": "stdout",
          "text": [
            "[1200, 1335, 1470, 1605, 1740, 1875]\n",
            "[2400, 2940, 3480]\n",
            "[2, 4, 6, 8]\n",
            "[1, 3, 5, 7, 9]\n"
          ]
        }
      ]
    },
    {
      "cell_type": "code",
      "source": [
        "#exercice 2\n",
        "import operator\n",
        "\n",
        "#Creation du list vide\n",
        "lst1 = []\n",
        "for i in range(1200, 2000, 135):\n",
        "    lst1.append(i) #append les nombres de 1200 a 2000 avec un pas de 135\n",
        "\n",
        "\n",
        "print(lst1) #affichage de la list\n",
        "\n",
        "\n",
        "\n",
        "lst1 = list(range(1200, 2000, 135))\n",
        "lst2 = []#creation de la list vide\n",
        "\n",
        "\n",
        "for i in (lst1):  #2\n",
        "  if i % 2 == 0 :\n",
        "    lst2.append(i*2) #on append la multiplication des nombres multiple de 2 et on les multiplit par 2\n",
        "\n",
        "print(lst2)\n",
        "\n",
        "\n",
        "numbers = (1, 2, 3, 4, 5, 6, 7, 8, 9)\n",
        "\n",
        "o = [x for x in numbers if operator.mod(x, 2) == 0]\n",
        "print(o) #on affiche x is x est un multiple de 2\n",
        "\n",
        "\n",
        "e = [x for x in numbers if operator.mod(x, 2) != 0]\n",
        "print(e) # on affiche x si x % 2 est different de 0\n",
        "\n",
        "\n"
      ],
      "metadata": {
        "colab": {
          "base_uri": "https://localhost:8080/"
        },
        "id": "ACkWSmjVcg9V",
        "outputId": "8dab7552-8b83-4605-8c2c-b205a1a4d786"
      },
      "execution_count": 30,
      "outputs": [
        {
          "output_type": "stream",
          "name": "stdout",
          "text": [
            "[1200, 1335, 1470, 1605, 1740, 1875]\n",
            "[2400, 2940, 3480]\n",
            "[2, 4, 6, 8]\n",
            "[1, 3, 5, 7, 9]\n"
          ]
        }
      ]
    },
    {
      "cell_type": "code",
      "source": [],
      "metadata": {
        "id": "znjbFpkifG8Z"
      },
      "execution_count": 16,
      "outputs": []
    },
    {
      "cell_type": "code",
      "source": [
        "\n",
        "def transform(chain):\n",
        "    try:\n",
        "        # Extraire les entiers de chaque chaîne et les mettre dans un ensemble pour eliminer les doublons\n",
        "        entier1 = set(map(int, [x.strip() for x in chain[0].split(',')]))\n",
        "        entier2 = set(map(int, [x.strip() for x in chain[1].split(',')]))\n",
        "\n",
        "        # Intersectons des ensembles pour trouver les entiers communs\n",
        "        entiers_communs = sorted(list(entier1.intersection(entier2)))\n",
        "\n",
        "        # Concatenation du nom, prénom et classe avec les entiers communs\n",
        "        resultat = f\"{', '.join(map(str, entiers_communs))}:Saboubanga_Willane_Jaures_Master1\"\n",
        "    except ValueError:\n",
        "        resultat = None\n",
        "\n",
        "    return resultat\n",
        "\n",
        "\n",
        "# vous ne modifierez rien après cette ligne\n",
        "if __name__ == \"__main__\":\n",
        "    arr1 = [\"1, 3, 4, 7, 13\", \"1, 2, 4, 13, 15\"]\n",
        "    out = transform(arr1)\n",
        "    print(out) # doit afficher ---> 31,4,1:nom_prenom_classe\n",
        "    arr3 = [\"9, 3, 5, 7, 14\", \"10, 2, 6, 16, 15\"]\n",
        "    out = transform(arr3)\n",
        "    print(out) # doit afficher ---> None"
      ],
      "metadata": {
        "id": "tGHwHHQaixCO",
        "outputId": "1ecfcb86-4d31-4d13-f0ee-8893bb2776fa",
        "colab": {
          "base_uri": "https://localhost:8080/"
        }
      },
      "execution_count": 40,
      "outputs": [
        {
          "output_type": "stream",
          "name": "stdout",
          "text": [
            "1, 4, 13:Saboubanga_Willane_Jaures_Master1\n",
            ":Saboubanga_Willane_Jaures_Master1\n"
          ]
        }
      ]
    },
    {
      "cell_type": "code",
      "source": [
        "import sqlite3\n",
        "\n",
        "#function\n",
        "def findNumber(tableau):\n",
        "    x = min(tableau)\n",
        "    y = max(tableau)\n",
        "\n",
        "    for i in range(x, y):\n",
        "        if i not in tableau:\n",
        "            nombre_manquant = i\n",
        "\n",
        "            # Stocker le nombre manquant dans une table SQLite\n",
        "            connecte = sqlite3.connect('databaseqq_data.db')\n",
        "            cursor = connecte.cursor()\n",
        "\n",
        "            # Créer une table s'il n'existe pas\n",
        "            cursor.execute('CREATE TABLE IF NOT EXISTS nombres_manquants (nombre INT)')\n",
        "\n",
        "            # Insérer le nombre manquant dans la table\n",
        "            cursor.execute('INSERT INTO nombres_manquants VALUES (?)', (nombre_manquant,))\n",
        "\n",
        "            # Enregistrer les modifications et fermer la connexion\n",
        "            connecte.commit()\n",
        "            connecte.close()\n",
        "\n",
        "            return nombre_manquant\n",
        "\n",
        "#testons\n",
        "exemple = [1, 2, 3, 5, 6]\n",
        "resultat = findNumber(exemple)\n",
        "print(f\"Nombre manquant : {resultat}\")"
      ],
      "metadata": {
        "id": "QifFG7_9n30V",
        "outputId": "eb12ebaa-cd5f-4352-db33-44b4dabb0101",
        "colab": {
          "base_uri": "https://localhost:8080/"
        }
      },
      "execution_count": 44,
      "outputs": [
        {
          "output_type": "stream",
          "name": "stdout",
          "text": [
            "Nombre manquant : 4\n"
          ]
        }
      ]
    },
    {
      "cell_type": "code",
      "source": [],
      "metadata": {
        "id": "wlgQuovYwYjj"
      },
      "execution_count": null,
      "outputs": []
    }
  ]
}